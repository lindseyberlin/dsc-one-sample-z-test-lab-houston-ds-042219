{
 "cells": [
  {
   "cell_type": "markdown",
   "metadata": {},
   "source": [
    "# One-Sample z-test - Lab\n",
    "\n",
    "## Introduction\n",
    "In this lab you'll perform a few quick tests to help you better understand how hypothesis testing works.\n",
    "\n",
    "## Objectives\n",
    "You will be able to:\n",
    "* Understand and explain use cases for a one-sample z-test\n",
    "* Set up null and alternative hypotheses\n",
    "* Calculate z-statistic using z-tables and CDF functions\n",
    "* Calculate and interpret p-value for significance of results\n",
    "\n",
    "## Exercise 1\n",
    "A fast food chain claims that the mean time to order food at their restaurants is 60 seconds, with a standard deviation of 30 seconds. You decide to take this claim to the test and go to one of the restaurants to observe actual waiting times. You take a sample of 36 customers and find that the mean order time was 75 seconds. Does this finding prove enough evidence to contradict the fast food chain's claim of fast service?\n",
    "\n",
    "Follow the 5 steps shown in previous lesson and use $\\alpha$ = 0.05. "
   ]
  },
  {
   "cell_type": "markdown",
   "metadata": {},
   "source": [
    "#### State your null and alternative hypotheses:\n",
    "\n",
    "Does ordering at this fast food chain take longer than they claim?\n",
    "\n",
    "Alternative Hypothosis ($H_a$): average ordering time ($\\mu$) < observed ordering time ($M$)\n",
    "\n",
    "Null Hypothosis ($H_0$): average ordering time ($\\mu$) $\\geq$ observed ordering time ($M$)"
   ]
  },
  {
   "cell_type": "code",
   "execution_count": 1,
   "metadata": {},
   "outputs": [],
   "source": [
    "# Imports\n",
    "\n",
    "import scipy.stats as stats\n",
    "from math import sqrt"
   ]
  },
  {
   "cell_type": "code",
   "execution_count": 2,
   "metadata": {},
   "outputs": [],
   "source": [
    "# Setting variables\n",
    "\n",
    "x_bar = 75   # Sample mean, 75 seconds\n",
    "n = 36       # Sample size, number of customer orders observed\n",
    "sigma = 30   # Population standard deviation, 30 seconds\n",
    "mu = 60      # Population mean, 60 seconds"
   ]
  },
  {
   "cell_type": "code",
   "execution_count": 6,
   "metadata": {},
   "outputs": [
    {
     "name": "stdout",
     "output_type": "stream",
     "text": [
      "3.0\n",
      "0.9986501019683699\n",
      "0.0013498980316301035\n"
     ]
    }
   ],
   "source": [
    "# Calculating a one-sample z-statistic (z-score)\n",
    "z = (x_bar - mu)/(sigma/sqrt(n))\n",
    "print(z)\n",
    "\n",
    "# Using scipy.stats to calculating z-value\n",
    "z_val = stats.norm.cdf(z)\n",
    "print(z_val)\n",
    "\n",
    "# The inverse of the z-value is the p-value, so calculating p-value\n",
    "p_val = 1 - z_val\n",
    "print(p_val)\n",
    "\n",
    "# (p = 0.0013498980316301035, z = 3.0)"
   ]
  },
  {
   "cell_type": "markdown",
   "metadata": {},
   "source": [
    "#### Interpret the results in terms of the p-value\n",
    "\n",
    "If we assume that the mean of ordering times is 60 seconds, our observed mean of 75 seconds is higher than 99.865% of the values of all ordering times.\n",
    "\n",
    "Assuming an alpha threshold of .05, our results are statistically significant because the p-value we calculated is less than .05. Thus we can reject the null hypothosis, and we can say that statistically it is likely the mean of ordering times is greater than 60 seconds."
   ]
  },
  {
   "cell_type": "markdown",
   "metadata": {},
   "source": [
    "## Exercise 2\n",
    "\n",
    "25 students complete a preparation program for taking the SAT test.  Here are the SAT scores from the 25 students who completed  program:\n",
    "\n",
    "``\n",
    "434 694 457 534 720 400 484 478 610 641 425 636 454 \n",
    "514 563 370 499 640 501 625 612 471 598 509 531\n",
    "``\n",
    "\n",
    "We know that the population average for SAT scores is 500 with a standard deviation of 100.\n",
    "\n",
    "Are our 25 students’ SAT scores significantly bigger than a population mean? \n",
    "\n",
    "*Note that the SAT preparation program claims that it will increase (and not decrease) the SAT score.  So, you can conduct a one-directional test. (alpha = .05).*"
   ]
  },
  {
   "cell_type": "markdown",
   "metadata": {},
   "source": [
    "#### State your null and alternative hypotheses:\n",
    "\n",
    "Alternative Hypothosis ($H_a$): average SAT scores ($\\mu$) < prep program students' SAT scores ($M$)\n",
    "\n",
    "Null Hypothosis ($H_0$): average SAT test scores ($\\mu$) $\\geq$ prep program students' SAT scores ($M$)"
   ]
  },
  {
   "cell_type": "code",
   "execution_count": 9,
   "metadata": {},
   "outputs": [
    {
     "name": "stdout",
     "output_type": "stream",
     "text": [
      "536.0\n"
     ]
    }
   ],
   "source": [
    "# Imports\n",
    "import scipy.stats as stats\n",
    "from math import sqrt\n",
    "import numpy as np\n",
    "\n",
    "# Calculating the average from the provided SAT scores\n",
    "prep_scores = [434, 694, 457, 534, 720, 400, 484, 478, 610, 641, 425, 636, 454, \n",
    "               514, 563, 370, 499, 640, 501, 625, 612, 471, 598, 509, 531]\n",
    "\n",
    "# Setting variables\n",
    "x_bar = np.mean(prep_scores) # Sample mean, from our prep program SAT scores\n",
    "n = 25                       # Sample size, number of students' SAT scores\n",
    "sigma = 100                  # Population standard deviation, 100 \n",
    "mu = 500                     # Population mean, 500\n",
    "\n",
    "\n",
    "print(x_bar)"
   ]
  },
  {
   "cell_type": "code",
   "execution_count": 8,
   "metadata": {},
   "outputs": [
    {
     "name": "stdout",
     "output_type": "stream",
     "text": [
      "1.8\n",
      "0.9640696808870742\n",
      "0.03593031911292577\n"
     ]
    }
   ],
   "source": [
    "# Calculating a one-sample z-statistic (z-score)\n",
    "z = (x_bar - mu)/(sigma/sqrt(n))\n",
    "print(z)\n",
    "\n",
    "# Using scipy.stats to calculating z-value\n",
    "z_val = stats.norm.cdf(z)\n",
    "print(z_val)\n",
    "\n",
    "# The inverse of the z-value is the p-value, so calculating p-value\n",
    "p_val = 1 - z_val\n",
    "print(p_val)\n",
    "\n",
    "# p = 0.03593031911292577, z = 1.8"
   ]
  },
  {
   "cell_type": "markdown",
   "metadata": {},
   "source": [
    "#### Interpret the results in terms of the p-value\n",
    "\n",
    "Assuming a threshold alpha of .05, our results are statistically significant. Given the SAT scores of our prep program students, their scores show a statistically significant increase in their SAT scores as a result of taking the prep program."
   ]
  },
  {
   "cell_type": "markdown",
   "metadata": {},
   "source": [
    "## Summary\n",
    "\n",
    "In this lesson, you conducted a couple of simple tests comparing sample and population means, in an attempt to reject our null hypotheses. This provides you with a strong foundation to move ahead with more advanced tests and approaches later on."
   ]
  }
 ],
 "metadata": {
  "kernelspec": {
   "display_name": "Python 3",
   "language": "python",
   "name": "python3"
  },
  "language_info": {
   "codemirror_mode": {
    "name": "ipython",
    "version": 3
   },
   "file_extension": ".py",
   "mimetype": "text/x-python",
   "name": "python",
   "nbconvert_exporter": "python",
   "pygments_lexer": "ipython3",
   "version": "3.7.3"
  }
 },
 "nbformat": 4,
 "nbformat_minor": 2
}
